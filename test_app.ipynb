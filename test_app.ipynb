{
 "cells": [
  {
   "cell_type": "code",
   "execution_count": 1,
   "metadata": {},
   "outputs": [],
   "source": [
    "from match import get_track_info, get_data, get_artist_info, find_shared, get_image, get_genres, recommend_artists, recommend_tracks, get_value\n",
    "import pandas as pd\n",
    "from sklearn.tree import DecisionTreeClassifier"
   ]
  },
  {
   "cell_type": "code",
   "execution_count": 2,
   "metadata": {},
   "outputs": [],
   "source": [
    "pidx = '2b08l28qJ61zKFztCRrNOl'\n",
    "pid1 = '5t1y9F77hIHGFIUJbdy2PH'\n",
    "pid2 = '2b08l28qJ61zKFztCRrNOl'\n",
    "uid = 'kli-17'"
   ]
  },
  {
   "cell_type": "code",
   "execution_count": 3,
   "metadata": {},
   "outputs": [],
   "source": [
    "def g_audio_features(track_ids):\n",
    "    r = []\n",
    "    for track in track_ids:\n",
    "        data = get_data(track, 'audio-features')\n",
    "        r.append(data)\n",
    "    return r"
   ]
  },
  {
   "cell_type": "code",
   "execution_count": 4,
   "metadata": {},
   "outputs": [],
   "source": [
    "FEATURES = ['track_titles', 'artist_ids', 'artist_name', 'danceability', 'energy', 'acousticness', 'mode', 'valence', 'loudness', 'tempo', 'liveness', 'key', 'instrumentalness', 'likes']"
   ]
  },
  {
   "cell_type": "code",
   "execution_count": 5,
   "metadata": {},
   "outputs": [],
   "source": [
    "def create_df(pid, like_flag):\n",
    "    pl = get_data(pid, 'playlists')\n",
    "    track_ids = get_track_info(pl, 'id')\n",
    "    artist_ids = get_artist_info(pl, 'id')\n",
    "    artist_names = get_artist_info(pl, 'name')\n",
    "    track_titles = get_track_info(pl, 'name')\n",
    "\n",
    "    features = g_audio_features(track_ids)\n",
    "    df = pd.DataFrame(data=features, columns=features[0].keys())\n",
    "\n",
    "    likes = []\n",
    "    for i in range(0, len(df.index)):\n",
    "        likes.append(0) if like_flag == 0 else likes.append(1)\n",
    "    \n",
    "    df['track_titles'] = track_titles\n",
    "    df['artist_name'] = artist_names\n",
    "    df['artist_ids'] = artist_ids\n",
    "    df['likes'] = likes\n",
    "\n",
    "    return df[FEATURES]"
   ]
  },
  {
   "cell_type": "code",
   "execution_count": 6,
   "metadata": {},
   "outputs": [],
   "source": [
    "df1y = create_df(pid1, 1)\n",
    "df1x = create_df(pidx, 0)\n",
    "df2 = create_df(pid2, 1)\n",
    "df1 = pd.concat([df1y, df1x])"
   ]
  },
  {
   "cell_type": "code",
   "execution_count": 7,
   "metadata": {},
   "outputs": [],
   "source": [
    "REDUCED_FEATURES = ['danceability', 'energy', 'acousticness', 'valence', 'loudness', 'tempo', 'liveness', 'instrumentalness', 'key', 'mode']"
   ]
  },
  {
   "cell_type": "code",
   "execution_count": 8,
   "metadata": {},
   "outputs": [],
   "source": [
    "def find_compatibility(X_train, y_train, X_test, y_test):\n",
    "    dtc = DecisionTreeClassifier()\n",
    "    dtc.fit(X_train, y_train)\n",
    "    return dtc.score(X_test, y_test)"
   ]
  },
  {
   "cell_type": "code",
   "execution_count": 9,
   "metadata": {},
   "outputs": [],
   "source": [
    "c = find_compatibility(df1[REDUCED_FEATURES], df1['likes'], df2[REDUCED_FEATURES], df2['likes']) * 100"
   ]
  }
 ],
 "metadata": {
  "kernelspec": {
   "display_name": "Python 3.9.13 ('base')",
   "language": "python",
   "name": "python3"
  },
  "language_info": {
   "codemirror_mode": {
    "name": "ipython",
    "version": 3
   },
   "file_extension": ".py",
   "mimetype": "text/x-python",
   "name": "python",
   "nbconvert_exporter": "python",
   "pygments_lexer": "ipython3",
   "version": "3.9.13"
  },
  "orig_nbformat": 4,
  "vscode": {
   "interpreter": {
    "hash": "69dd409b9ebcd37b18fceeef992a5e276e8db19be5f3a9919b57bca4cd0bcd24"
   }
  }
 },
 "nbformat": 4,
 "nbformat_minor": 2
}
